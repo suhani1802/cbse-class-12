{
 "cells": [
  {
   "cell_type": "code",
   "execution_count": 38,
   "metadata": {},
   "outputs": [],
   "source": [
    "import pickle\n",
    "import os"
   ]
  },
  {
   "cell_type": "code",
   "execution_count": 5,
   "metadata": {},
   "outputs": [],
   "source": [
    "def create():\n",
    "    f=open(\"library.dat\",\"wb\")\n",
    "    fx=open(\"num.txt\",\"w\")\n",
    "    id=99\n",
    "    while True:\n",
    "        d={}\n",
    "        id+=1\n",
    "        l=[]\n",
    "        Name_of_customer=input(\"enter name\")\n",
    "        l.append(Name_of_customer)\n",
    "        Title_of_Book=input(\"enter title\")\n",
    "        l.append(Title_of_Book)\n",
    "        Author=input(\"enter author name\")\n",
    "        l.append(Author)\n",
    "        Date_of_Issuing=input(\"enter date of issuing\")\n",
    "        l.append(Date_of_Issuing)\n",
    "        Date_of_Returning=input(\"enter date of returning\")\n",
    "        l.append(Date_of_Returning)\n",
    "        d[id]=l\n",
    "        print(d)\n",
    "        pickle.dump(d,f)\n",
    "        ch=input(\"do you want to enter more records(y/n)\")\n",
    "        if ch==\"n\" or ch==\"N\":\n",
    "            break\n",
    "    f.close()\n",
    "    fx.write(str(id))\n",
    "    fx.close()"
   ]
  },
  {
   "cell_type": "code",
   "execution_count": 10,
   "metadata": {},
   "outputs": [],
   "source": [
    "def append():\n",
    "    f=open(\"library.dat\",\"ab\")\n",
    "    fx=open(\"num.txt\",\"r+\")\n",
    "    id=int(fx.read())\n",
    "    while True:\n",
    "        d={}\n",
    "        id=id+1\n",
    "        l=[]\n",
    "        Name_of_customer=input(\"enter name\")\n",
    "        l.append(Name_of_customer)\n",
    "        Title_of_Book=input(\"enter title\")\n",
    "        l.append(Title_of_Book)\n",
    "        Author=input(\"enter author name\")\n",
    "        l.append(Author)\n",
    "        Date_of_Issuing=input(\"enter date of issuing\")\n",
    "        l.append(Date_of_Issuing)\n",
    "        Date_of_Returning=input(\"enter date of returning\")\n",
    "        l.append(Date_of_Returning)\n",
    "        d[id]=l\n",
    "        print(d)\n",
    "        pickle.dump(d,f)\n",
    "        ch=input(\"do you want to enter more records(y/n)\")\n",
    "        if ch==\"n\" or ch==\"N\":\n",
    "            break\n",
    "    f.close()\n",
    "    fx.seek(0)\n",
    "    fx.write(str(id))\n",
    "    fx.close()"
   ]
  },
  {
   "cell_type": "code",
   "execution_count": 12,
   "metadata": {},
   "outputs": [],
   "source": [
    "def display_all_rec():\n",
    "    f=open(\"library.dat\",\"rb\")\n",
    "    try:\n",
    "        while True:\n",
    "            d=pickle.load(f)\n",
    "            a=list(d.keys())\n",
    "            print(\"The id is{}, name is {},title is {},author is {}\"\n",
    "                  \" ,date of issuing is {} ,date of returning is {}\" \n",
    "                  .format(a[0],d[a[0]][0],d[a[0]][1],d[a[0]][2],\n",
    "                          d[a[0]][3],d[a[0]][4]))\n",
    "            \n",
    "    except EOFError:pass\n",
    "    finally:f.close()"
   ]
  },
  {
   "cell_type": "code",
   "execution_count": 20,
   "metadata": {},
   "outputs": [],
   "source": [
    "def delete_id_rec():\n",
    "    f1=open(\"library.dat\",\"rb\")\n",
    "    f2=open(\"temp.dat\",\"wb\")\n",
    "    lib_id=int(input(\"enter ID to delete\"))\n",
    "    flag=0\n",
    "    try:\n",
    "        while True:\n",
    "            d=pickle.load(f1)\n",
    "            if lib_id in d:\n",
    "                flag=1\n",
    "            else:\n",
    "                pickle.dump(d,f2)\n",
    "    except EOFError:\n",
    "        if flag==0: \n",
    "            print(\"sorry ID to delete was not there\")\n",
    "    finally:\n",
    "        f1.close()\n",
    "        f2.close()"
   ]
  },
  {
   "cell_type": "code",
   "execution_count": 33,
   "metadata": {},
   "outputs": [],
   "source": [
    "def delete_name_rec():\n",
    "    f1=open(\"library.dat\",\"rb\")\n",
    "    f2=open(\"temp.dat\",\"wb\")\n",
    "    nm=input(\"enter name to delete\")\n",
    "    flag=0\n",
    "    try:\n",
    "        while True:\n",
    "            d=pickle.load(f1)\n",
    "            for i in d:\n",
    "                a_name,b_title,c_author,d_doi,d_dor=d[i]\n",
    "                if a_name.lower()==nm.lower():\n",
    "                    flag=1\n",
    "                else:\n",
    "                    pickle.dump(d,f2)\n",
    "    except EOFError:\n",
    "        if flag==0: \n",
    "            print(\"Sorry name to delete was not there\")\n",
    "        else:\n",
    "            print(\"Deleted record\")\n",
    "    finally:\n",
    "        f1.close()\n",
    "        f2.close()"
   ]
  },
  {
   "cell_type": "code",
   "execution_count": 31,
   "metadata": {},
   "outputs": [],
   "source": [
    "def modify_name_of_customer():\n",
    "    f1=open(\"library.dat\",\"rb\")\n",
    "    f2=open(\"temp.dat\",\"wb\")\n",
    "    id=int(input(\"enter id to search: \"))\n",
    "    name=input(\"enter name no to changed:\")\n",
    "    count=0\n",
    "    try:\n",
    "        while True:\n",
    "            d=pickle.load(f1)\n",
    "            if id in d:\n",
    "                d[id][0]=name\n",
    "                count=1\n",
    "                pickle.dump(d,f2)\n",
    "            else:\n",
    "                pickle.dump(d,f2)\n",
    "            print(d)\n",
    "    except EOFError:\n",
    "        if count==0: print(\"sorry id whose name had to be changed was not there\")\n",
    "    finally:\n",
    "        f1.close()\n",
    "        f2.close()"
   ]
  },
  {
   "cell_type": "code",
   "execution_count": 45,
   "metadata": {},
   "outputs": [],
   "source": [
    "def search():\n",
    "    if not os.path.isfile(\"library.dat\"):\n",
    "        print(\"sorry, file not found\")\n",
    "    else:\n",
    "        f=open(\"library.dat\",\"rb\")\n",
    "        name=input(\"enter name\")\n",
    "        flag=0\n",
    "        try:\n",
    "            while True:\n",
    "                d=pickle.load(f)\n",
    "                for i in d:\n",
    "                    if d[i][0]==name:\n",
    "                        flag=1\n",
    "                        print(\"name\",i)\n",
    "                        print(\"The name is %s ,title is %s, author is %s, date of issuing is %s,date of returning is %s\"%\\\n",
    "                              (d[i][0],d[i][1],d[i][2],d[i][3],d[i][4]))\n",
    "        except EOFError:\n",
    "            if flag==0:\n",
    "                print(\"sorry, name not found in the database\")\n",
    "        finally:\n",
    "            f.close()"
   ]
  },
  {
   "cell_type": "code",
   "execution_count": 48,
   "metadata": {},
   "outputs": [
    {
     "name": "stdout",
     "output_type": "stream",
     "text": [
      "enter the date in format 'dd/mm/yy':20/04/2020\n",
      "date of issuing is valid\n"
     ]
    }
   ],
   "source": [
    "import datetime\n",
    "while True:\n",
    "    Input_date1=input(\"enter the date in format 'dd/mm/yy':\")\n",
    "    day,month,year=Input_date1.split(\"/\")\n",
    "    isValidDate=True\n",
    "    try:\n",
    "        \n",
    "        datetime.datetime(int(year),int(month),int(day))\n",
    "    except ValueError:\n",
    "        isValidDate=False\n",
    "    if(isValidDate):\n",
    "        print (\"date of issuing is valid\")\n",
    "        break\n",
    "    else:\n",
    "        print(\"date entered by you is invalid, enter again\")"
   ]
  },
  {
   "cell_type": "code",
   "execution_count": 49,
   "metadata": {},
   "outputs": [
    {
     "name": "stdout",
     "output_type": "stream",
     "text": [
      "enter the date in format 'dd/mm/yy':27/04/2020\n",
      "date of returning is valid\n"
     ]
    }
   ],
   "source": [
    "import datetime\n",
    "while True:\n",
    "    Input_date2=input(\"enter the date in format 'dd/mm/yy':\")\n",
    "    day,month,year=Input_date2.split(\"/\")\n",
    "    isValidDate=True\n",
    "    try:\n",
    "        datetime.datetime(int(year),int(month),int(day))\n",
    "    except ValueError:\n",
    "        isValidDate=False\n",
    "    if(isValidDate):\n",
    "        print (\"date of returning is valid\")\n",
    "        break\n",
    "    else:\n",
    "        print(\"date entered by you is invalid, enter again\")"
   ]
  },
  {
   "cell_type": "code",
   "execution_count": 53,
   "metadata": {},
   "outputs": [],
   "source": [
    "def main():\n",
    "    while True:\n",
    "        print(\" 1.Create\\n 2.Append\\n 3.Display\\n 4.Delete by name\\n 5.Delete by id\\n 6.Modify name\\n 7.Search by name\\n 8.Exit\")\n",
    "        ch=input(\"enter your choice\")\n",
    "        if ch=='1':\n",
    "            create()\n",
    "        elif ch=='2':\n",
    "            append()\n",
    "        elif ch=='3':\n",
    "            display_all_rec()\n",
    "        elif ch=='4':\n",
    "            delete_name_rec()\n",
    "        elif ch=='5':\n",
    "            delete_id_rec()\n",
    "        elif ch=='6':\n",
    "            modify_name_of_customer()\n",
    "        elif ch=='7':\n",
    "            search()\n",
    "        elif ch=='8':\n",
    "            break\n",
    "        else:\n",
    "            print(\"invalid choice,try again\")"
   ]
  },
  {
   "cell_type": "code",
   "execution_count": 6,
   "metadata": {},
   "outputs": [
    {
     "name": "stdout",
     "output_type": "stream",
     "text": [
      "enter nameRam Gupta\n",
      "enter titleGone Girl\n",
      "enter author nameGillian Flyyn\n",
      "enter date of issuing12-04-2020\n",
      "enter date of returning19-04-2020\n",
      "{100: ['Ram Gupta', 'Gone Girl', 'Gillian Flyyn', '12-04-2020', '19-04-2020']}\n",
      "do you want to enter more records(y/n)y\n",
      "enter nameRiya Sharma\n",
      "enter titleWings of Fire\n",
      "enter author nameAPJ Abdul Kalam\n",
      "enter date of issuing05-04-2020\n",
      "enter date of returning12-04-2020\n",
      "{101: ['Riya Sharma', 'Wings of Fire', 'APJ Abdul Kalam', '05-04-2020', '12-04-2020']}\n",
      "do you want to enter more records(y/n)y\n",
      "enter nameAnil Bajaj\n",
      "enter titleRomeo and Juliet\n",
      "enter author nameShakespeare\n",
      "enter date of issuing03-04-2020\n",
      "enter date of returning10-04-2020\n",
      "{102: ['Anil Bajaj', 'Romeo and Juliet', 'Shakespeare', '03-04-2020', '10-04-2020']}\n",
      "do you want to enter more records(y/n)y\n",
      "enter nameParitosh Saini\n",
      "enter titleWar and Peace\n",
      "enter author nameLeo Tolstoy\n",
      "enter date of issuing11-04-2020\n",
      "enter date of returning18-04-2020\n",
      "{103: ['Paritosh Saini', 'War and Peace', 'Leo Tolstoy', '11-04-2020', '18-04-2020']}\n",
      "do you want to enter more records(y/n)y\n",
      "enter nameAbhishekh Singh\n",
      "enter titleEmma\n",
      "enter author nameJane Austen\n",
      "enter date of issuing20-04-2020\n",
      "enter date of returning27-04-2020\n",
      "{104: ['Abhishekh Singh', 'Emma', 'Jane Austen', '20-04-2020', '27-04-2020']}\n",
      "do you want to enter more records(y/n)n\n"
     ]
    }
   ],
   "source": [
    "create()"
   ]
  },
  {
   "cell_type": "code",
   "execution_count": 11,
   "metadata": {},
   "outputs": [
    {
     "name": "stdout",
     "output_type": "stream",
     "text": [
      "enter nameRam Sharma\n",
      "enter titleUlysses\n",
      "enter author nameJames Joyce\n",
      "enter date of issuing01-04-2020\n",
      "enter date of returning08-04-2020\n",
      "{105: ['Ram Sharma', 'Ulysses', 'James Joyce', '01-04-2020', '08-04-2020']}\n",
      "do you want to enter more records(y/n)y\n",
      "enter nameTina Mehta\n",
      "enter titleGone With The Wind\n",
      "enter author nameMargaret Mitchell\n",
      "enter date of issuing07-04-2020\n",
      "enter date of returning14-04-2020\n",
      "{106: ['Tina Mehta', 'Gone With The Wind', 'Margaret Mitchell', '07-04-2020', '14-04-2020']}\n",
      "do you want to enter more records(y/n)y\n",
      "enter nameArya Bachchan\n",
      "enter titleDeception Point\n",
      "enter author nameDan Brown\n",
      "enter date of issuing08-04-2020\n",
      "enter date of returning15-04-2020\n",
      "{107: ['Arya Bachchan', 'Deception Point', 'Dan Brown', '08-04-2020', '15-04-2020']}\n",
      "do you want to enter more records(y/n)n\n"
     ]
    }
   ],
   "source": [
    "append()"
   ]
  },
  {
   "cell_type": "code",
   "execution_count": 13,
   "metadata": {},
   "outputs": [
    {
     "name": "stdout",
     "output_type": "stream",
     "text": [
      "The id is100, name is Ram Gupta,title is Gone Girl,author is Gillian Flyyn ,date of issuing is 12-04-2020 ,date of returning is 19-04-2020\n",
      "The id is101, name is Riya Sharma,title is Wings of Fire,author is APJ Abdul Kalam ,date of issuing is 05-04-2020 ,date of returning is 12-04-2020\n",
      "The id is102, name is Anil Bajaj,title is Romeo and Juliet,author is Shakespeare ,date of issuing is 03-04-2020 ,date of returning is 10-04-2020\n",
      "The id is103, name is Paritosh Saini,title is War and Peace,author is Leo Tolstoy ,date of issuing is 11-04-2020 ,date of returning is 18-04-2020\n",
      "The id is104, name is Abhishekh Singh,title is Emma,author is Jane Austen ,date of issuing is 20-04-2020 ,date of returning is 27-04-2020\n",
      "The id is105, name is Ram Sharma,title is Ulysses,author is James Joyce ,date of issuing is 01-04-2020 ,date of returning is 08-04-2020\n",
      "The id is106, name is Tina Mehta,title is Gone With The Wind,author is Margaret Mitchell ,date of issuing is 07-04-2020 ,date of returning is 14-04-2020\n",
      "The id is107, name is Arya Bachchan,title is Deception Point,author is Dan Brown ,date of issuing is 08-04-2020 ,date of returning is 15-04-2020\n"
     ]
    }
   ],
   "source": [
    "display_all_rec()"
   ]
  },
  {
   "cell_type": "code",
   "execution_count": 21,
   "metadata": {},
   "outputs": [
    {
     "name": "stdout",
     "output_type": "stream",
     "text": [
      "enter ID to delete120\n",
      "sorry ID to delete was not there\n"
     ]
    }
   ],
   "source": [
    "delete_id_rec()"
   ]
  },
  {
   "cell_type": "code",
   "execution_count": 34,
   "metadata": {},
   "outputs": [
    {
     "name": "stdout",
     "output_type": "stream",
     "text": [
      "enter name to deleteAnil Bajaj\n",
      "Deleted record\n"
     ]
    }
   ],
   "source": [
    "delete_name_rec()"
   ]
  },
  {
   "cell_type": "code",
   "execution_count": 32,
   "metadata": {},
   "outputs": [
    {
     "name": "stdout",
     "output_type": "stream",
     "text": [
      "enter id to search: 107\n",
      "enter name no to changed: Arya\n",
      "{100: ['Ram Gupta', 'Gone Girl', 'Gillian Flyyn', '12-04-2020', '19-04-2020']}\n",
      "{101: ['Riya Sharma', 'Wings of Fire', 'APJ Abdul Kalam', '05-04-2020', '12-04-2020']}\n",
      "{102: ['Anil Bajaj', 'Romeo and Juliet', 'Shakespeare', '03-04-2020', '10-04-2020']}\n",
      "{103: ['Paritosh Saini', 'War and Peace', 'Leo Tolstoy', '11-04-2020', '18-04-2020']}\n",
      "{104: ['Abhishekh Singh', 'Emma', 'Jane Austen', '20-04-2020', '27-04-2020']}\n",
      "{105: ['Ram Sharma', 'Ulysses', 'James Joyce', '01-04-2020', '08-04-2020']}\n",
      "{106: ['Tina Mehta', 'Gone With The Wind', 'Margaret Mitchell', '07-04-2020', '14-04-2020']}\n",
      "{107: ['Arya', 'Deception Point', 'Dan Brown', '08-04-2020', '15-04-2020']}\n"
     ]
    }
   ],
   "source": [
    "modify_name_of_customer()"
   ]
  },
  {
   "cell_type": "code",
   "execution_count": 46,
   "metadata": {},
   "outputs": [
    {
     "name": "stdout",
     "output_type": "stream",
     "text": [
      "enter nameRiya Sharma\n",
      "name 101\n",
      "The name is Riya Sharma ,title is Wings of Fire, author is APJ Abdul Kalam, date of issuing is 05-04-2020,date of returning is 12-04-2020\n"
     ]
    }
   ],
   "source": [
    "search()"
   ]
  },
  {
   "cell_type": "code",
   "execution_count": 54,
   "metadata": {},
   "outputs": [
    {
     "name": "stdout",
     "output_type": "stream",
     "text": [
      " 1.Create\n",
      " 2.Append\n",
      " 3.Display\n",
      " 4.Delete by name\n",
      " 5.Delete by id\n",
      " 6.Modify name\n",
      " 7.Search by name\n",
      " 8.Exit\n",
      "enter your choice2\n",
      "enter nameLucy George\n",
      "enter titleHamlet\n",
      "enter author nameShakespeare\n",
      "enter date of issuing01-04-2020\n",
      "enter date of returning08-04-2020\n",
      "{109: ['Lucy George', 'Hamlet', 'Shakespeare', '01-04-2020', '08-04-2020']}\n",
      "do you want to enter more records(y/n)y\n",
      "enter nameAnanya Kaur\n",
      "enter titleThe Diary of a Young Girl\n",
      "enter author nameAnne Frank\n",
      "enter date of issuing07-04-2020\n",
      "enter date of returning14-04-2020\n",
      "{110: ['Ananya Kaur', 'The Diary of a Young Girl', 'Anne Frank', '07-04-2020', '14-04-2020']}\n",
      "do you want to enter more records(y/n)n\n",
      " 1.Create\n",
      " 2.Append\n",
      " 3.Display\n",
      " 4.Delete by name\n",
      " 5.Delete by id\n",
      " 6.Modify name\n",
      " 7.Search by name\n",
      " 8.Exit\n",
      "enter your choice7\n",
      "enter nameArya\n",
      "sorry, name not found in the database\n",
      " 1.Create\n",
      " 2.Append\n",
      " 3.Display\n",
      " 4.Delete by name\n",
      " 5.Delete by id\n",
      " 6.Modify name\n",
      " 7.Search by name\n",
      " 8.Exit\n",
      "enter your choice3\n",
      "The id is100, name is Ram Gupta,title is Gone Girl,author is Gillian Flyyn ,date of issuing is 12-04-2020 ,date of returning is 19-04-2020\n",
      "The id is101, name is Riya Sharma,title is Wings of Fire,author is APJ Abdul Kalam ,date of issuing is 05-04-2020 ,date of returning is 12-04-2020\n",
      "The id is102, name is Anil Bajaj,title is Romeo and Juliet,author is Shakespeare ,date of issuing is 03-04-2020 ,date of returning is 10-04-2020\n",
      "The id is103, name is Paritosh Saini,title is War and Peace,author is Leo Tolstoy ,date of issuing is 11-04-2020 ,date of returning is 18-04-2020\n",
      "The id is104, name is Abhishekh Singh,title is Emma,author is Jane Austen ,date of issuing is 20-04-2020 ,date of returning is 27-04-2020\n",
      "The id is105, name is Ram Sharma,title is Ulysses,author is James Joyce ,date of issuing is 01-04-2020 ,date of returning is 08-04-2020\n",
      "The id is106, name is Tina Mehta,title is Gone With The Wind,author is Margaret Mitchell ,date of issuing is 07-04-2020 ,date of returning is 14-04-2020\n",
      "The id is107, name is Arya Bachchan,title is Deception Point,author is Dan Brown ,date of issuing is 08-04-2020 ,date of returning is 15-04-2020\n",
      "The id is108, name is Lucy George,title is Hamlet,author is Shakespeare ,date of issuing is 01-04-2020 ,date of returning is 08-04-2020\n",
      "The id is109, name is Lucy George,title is Hamlet,author is Shakespeare ,date of issuing is 01-04-2020 ,date of returning is 08-04-2020\n",
      "The id is110, name is Ananya Kaur,title is The Diary of a Young Girl,author is Anne Frank ,date of issuing is 07-04-2020 ,date of returning is 14-04-2020\n",
      " 1.Create\n",
      " 2.Append\n",
      " 3.Display\n",
      " 4.Delete by name\n",
      " 5.Delete by id\n",
      " 6.Modify name\n",
      " 7.Search by name\n",
      " 8.Exit\n",
      "enter your choice7\n",
      "enter nameArya Bachchan\n",
      "name 107\n",
      "The name is Arya Bachchan ,title is Deception Point, author is Dan Brown, date of issuing is 08-04-2020,date of returning is 15-04-2020\n",
      " 1.Create\n",
      " 2.Append\n",
      " 3.Display\n",
      " 4.Delete by name\n",
      " 5.Delete by id\n",
      " 6.Modify name\n",
      " 7.Search by name\n",
      " 8.Exit\n",
      "enter your choice8\n"
     ]
    }
   ],
   "source": [
    "main()"
   ]
  },
  {
   "cell_type": "code",
   "execution_count": null,
   "metadata": {},
   "outputs": [],
   "source": []
  }
 ],
 "metadata": {
  "kernelspec": {
   "display_name": "Python 3",
   "language": "python",
   "name": "python3"
  },
  "language_info": {
   "codemirror_mode": {
    "name": "ipython",
    "version": 3
   },
   "file_extension": ".py",
   "mimetype": "text/x-python",
   "name": "python",
   "nbconvert_exporter": "python",
   "pygments_lexer": "ipython3",
   "version": "3.8.3"
  }
 },
 "nbformat": 4,
 "nbformat_minor": 4
}
